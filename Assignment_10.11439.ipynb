{
 "cells": [
  {
   "cell_type": "code",
   "execution_count": 12,
   "metadata": {},
   "outputs": [],
   "source": [
    "import math"
   ]
  },
  {
   "cell_type": "code",
   "execution_count": 16,
   "metadata": {},
   "outputs": [
    {
     "name": "stdout",
     "output_type": "stream",
     "text": [
      "Calculated z-value:3.200\n",
      "The random chance probability that sample mean is greater than 108 is 0.000700\n",
      "The p-value is less than significance level, there is enough evidence to reject Null-Hypothesis, so null hypothesis is rejected\n",
      "Conclusion: The diet high in raw cornstarch had positive effect on blood glucose level.\n"
     ]
    }
   ],
   "source": [
    "'''Task 1:\n",
    "1. Blood glucose levels for obese patients have a mean of 100 with a standard deviation of 15. A\n",
    "researcher thinks that a diet high in raw cornstarch will have a positive effect on blood glucose\n",
    "levels. A sample of 36 patients who have tried the raw cornstarch diet have a mean glucose\n",
    "level of 108. Test the hypothesis that the raw cornstarch had an effect or not. '''\n",
    "\n",
    "#Population mean = 100\n",
    "#Population standard deviation (s) = 15\n",
    "# number of samples(n) = 36\n",
    "#sample mean (x) = 108\n",
    "\n",
    "pop_mean = 100\n",
    "s = 15\n",
    "n = 36\n",
    "x = 108\n",
    "\n",
    "#Step 1: State the hypothesis \n",
    "#Null hypothesis H0 - The diet high in raw cornstarch had no effect on blood glucose level\n",
    "#Alternate Hypothesis Ha - The diet high in raw cornstarch had positive effect on blood glucose level\n",
    "#H0 = 108\n",
    "#Ha > 108\n",
    "\n",
    "#Step 2: Setup significance level[Since significance level is not given, it is assumed to be 5%]\n",
    "alpha = 0.05\n",
    "\n",
    "# Step 3: Calculating z-score\n",
    "z = (x - pop_mean) / (15 / math.sqrt(n))\n",
    "print('Calculated z-value:%0.3f'%z)\n",
    "\n",
    "#Step 4: Calculate p-value from z-table\n",
    "\n",
    "#p-value associated with 3.20 from z-table or random chance probabilty that sample mean is less than 108 = 0.9993 \n",
    "p_lessThan_108 = 0.9993\n",
    "\n",
    "#p-value that randomm chance probability of having sample mean greater than 108 is 1-p\n",
    "p_moreThan_108 = 1- p_lessThan_108\n",
    "print('The random chance probability that sample mean is greater than 108 is %f'%p_moreThan_108)\n",
    "\n",
    "#Step 5: Compare with significance level and make conclusions\n",
    "\n",
    "if(p_moreThan_108 < alpha):\n",
    "    print('The p-value is less than significance level, there is enough evidence to reject Null-Hypothesis, so null hypothesis is rejected')\n",
    "    print('Conclusion: The diet high in raw cornstarch had positive effect on blood glucose level.')\n",
    "\n",
    "else:\n",
    "    print('The p-value is greater than significance level, there is no strong evidence to reject Null-Hypothesis, so null hypothesis is not rejected')\n",
    "    print('The diet high in raw cornstarch had no effect on blood glucose level')\n",
    "    \n",
    "\n"
   ]
  },
  {
   "cell_type": "code",
   "execution_count": 17,
   "metadata": {},
   "outputs": [
    {
     "name": "stdout",
     "output_type": "stream",
     "text": [
      "Mean difference between the two sample proportions: 0.05\n",
      "Standard deviation of the difference between two sample proportion: 0.0706\n",
      "z-score for probability p1 - p2 < 0 : -0.7080\n",
      "The probability that the survey will show a greater percentage of Republican voters in the second state than in the first state: 0.24\n"
     ]
    }
   ],
   "source": [
    "'''2. In one state, 52% of the voters are Republicans, and 48% are Democrats. In a second state,\n",
    "47% of the voters are Republicans, and 53% are Democrats. Suppose a simple random sample\n",
    "of 100 voters are surveyed from each state.\n",
    "What is the probability that the survey will show a greater percentage of Republican voters in\n",
    "the second state than in the first state?'''\n",
    "\n",
    "#P1 - the proportion of Republican voters in the first state \n",
    "P1 = 52 / 100\n",
    "#P2 - the proportion of Republican voters in the second state,\n",
    "P2 = 47 / 100\n",
    "#p1 - the proportion of Republican voters in the sample from the first state, \n",
    "#p2 - the proportion of Republican voters in the sample from the second state.\n",
    "\n",
    "x = 0\n",
    "#n1 - number of samples from first state\n",
    "n1 = 100\n",
    "\n",
    "#n2 - number of samples from second state\n",
    "n2 = 100\n",
    "\n",
    "#Step 1: Calculate mean difference between 2 sample proportions E(p1-p2)\n",
    "mean_difference = P1 - P2\n",
    "print('Mean difference between the two sample proportions: %0.2f'%mean_difference)\n",
    "\n",
    "#Step 2: Calculate standard deviation of the differene\n",
    "std = math.sqrt((P1 * ( 1 - P1 )) / n1 + (P2 * ( 1 - P2 )) / n2)\n",
    "print('Standard deviation of the difference between two sample proportion: %.4f'%std)\n",
    "\n",
    "#Step 3:Calculate z-score for p1 < p2, which is equivalent to p1 - p2 < 0, so calculate z-score for p1 - p2\n",
    "z_score = (x - mean_difference) / std\n",
    "print('z-score for probability p1 - p2 < 0 : %.4f'% z_score)  \n",
    "\n",
    "#Step 4:Calculate probability (p-value) from z-score table\n",
    "p_value = 0.24\n",
    "print('The probability that the survey will show a greater percentage of Republican voters in the second state than in the first state: %.2f'%p_value)"
   ]
  },
  {
   "cell_type": "code",
   "execution_count": 18,
   "metadata": {},
   "outputs": [
    {
     "name": "stdout",
     "output_type": "stream",
     "text": [
      "z-score calculated for area left of mean: 0.3541\n",
      "The percentage of test-takers below my score to the right of mean:35.41\n",
      "Total percentage of test-takers below my score: 63.68\n"
     ]
    }
   ],
   "source": [
    "'''3. You take the SAT and score 1100. The mean score for the SAT is 1026 and the standard\n",
    "deviation is 209. How well did you score on the test compared to the average test taker?'''\n",
    "\n",
    "#z-scores must be calculated to know how many standard deviations above the mean the observed score is\n",
    "x = 1100\n",
    "mean = 1026\n",
    "std = 209\n",
    "\n",
    "#Step 1: Calculate z-score\n",
    "z_score = (x - mean) / std\n",
    "print('z-score calculated for area left of mean: %.4f'% z_score)\n",
    "\n",
    "#Step 2: Calculate p-value from z-score table : 0.1368\n",
    "p_value_below = 0.1368\n",
    "print('The percentage of test-takers below my score to the right of mean:%0.2f'%(z_score*100))\n",
    "\n",
    "#Step 3: Calculate the percentage of test-takers below my score to the left of mean (area of left half of curve = 0.5)\n",
    "p_value_below += 0.5\n",
    "print('Total percentage of test-takers below my score: %.2f'% (p_value_below*100))\n"
   ]
  },
  {
   "cell_type": "code",
   "execution_count": 19,
   "metadata": {},
   "outputs": [
    {
     "name": "stdout",
     "output_type": "stream",
     "text": [
      "Constructed Dataframe\n",
      "            Bachelors  High School  Masters  Ph.d.  row_totals\n",
      "Female             54           60       46     41         201\n",
      "Male               44           40       53     57         194\n",
      "col_totals         98          100       99     98         395\n",
      "\n",
      "\n",
      "Expected frequency values under null hypothesis\n",
      "        Bachelors  High School    Masters      Ph.d.\n",
      "Female  49.868354    50.886076  50.377215  49.868354\n",
      "Male    48.131646    49.113924  48.622785  48.131646\n",
      "\n",
      "\n",
      "Chi-Squared_test_statistic: 8.006\n",
      "Degrees of freedom: 3\n",
      "Critical value for 3 for 5percent level of confidence: 7.815\n",
      "\n",
      "\n",
      "The critical value with 3 degree of freedom is 7.815. Since 8.006 > 7.815, therefore we reject the null hypothesis\n",
      "We conclude that the education level depends on gender at a 5 percentage level of significance. There is a relationship between the gender of an individual and the level of education that they have obtained\n"
     ]
    }
   ],
   "source": [
    "#Task 2:\n",
    "\n",
    "'''1. Is gender independent of education level? A random sample of 395 people were surveyed\n",
    "and each person was asked to report the highest education level they obtained. The data that\n",
    "resulted from the survey is summarized in the following table:\n",
    "High School Bachelors Masters Ph.d. Total\n",
    "Female 60 54 46 41 201\n",
    "Male 40 44 53 57 194\n",
    "Total 100 98 99 98 395\n",
    "Question: Are gender and education level dependent at 5% level of significance? In other\n",
    "words, given the data collected above, is there a relationship between the gender of an\n",
    "individual and the level of education that they have obtained?'''\n",
    "\n",
    "\n",
    "\n",
    "import numpy as np\n",
    "import pandas as pd\n",
    "import scipy.stats as stats\n",
    "\n",
    "#Null hypothesis: There is no relationship between gender of an individual and level of education\n",
    "#Alternate hypothesis: There is a relationship between gender of an individual and level of education. Gender and education are level dependent at 5% level significance\n",
    "\n",
    "\n",
    "n= 395.0\n",
    "female_marks = [60,54,46,41]\n",
    "male_marks = [40,44,53,57]\n",
    "high_school = [40,60]\n",
    "bachelors = [44,54]\n",
    "masters = [53,46]\n",
    "phd = [57,41]\n",
    "marks = male_marks + female_marks\n",
    "\n",
    "\n",
    "#Step 1: Constructing dataframe from given data\n",
    "sex =  ['Male','Male','Male','Male','Female','Female','Female','Female']\n",
    "edu = ['High School', 'Bachelors', 'Masters', 'Ph.d.','High School', 'Bachelors', 'Masters', 'Ph.d.']\n",
    "df_edu = pd.DataFrame({\"Sex\":sex,\"Edu\":edu,\"Marks\":marks})\n",
    "cross_tab = pd.crosstab([df_edu.Sex,df_edu.Marks],df_edu.Edu,margins=True)\n",
    "df2 = pd.crosstab(df_edu.Sex, df_edu.Edu,df_edu.Marks, aggfunc=\"sum\",margins=True)\n",
    "df2.columns = [\"Bachelors\",\"High School\",\"Masters\",\"Ph.d.\",\"row_totals\"]\n",
    "df2.index = [\"Female\",\"Male\",\"col_totals\"]\n",
    "print('Constructed Dataframe')\n",
    "print(df2)\n",
    "\n",
    "\n",
    "print('\\n')\n",
    "#Step 2: Calculate Expected frequency values under null hypothesis\n",
    "observed_df = df2.iloc[0:2,0:4]\n",
    "expected_df =  np.outer(df2[\"row_totals\"][0:2], df2.loc[\"col_totals\"][0:4]) / n\n",
    "expected_df = pd.DataFrame(expected_df)\n",
    "expected_df.columns = [\"Bachelors\",\"High School\",\"Masters\",\"Ph.d.\"]\n",
    "expected_df.index = [\"Female\",\"Male\"]\n",
    "print('Expected frequency values under null hypothesis')\n",
    "print(expected_df)\n",
    "\n",
    "\n",
    "print('\\n')\n",
    "#Step 3: Calculate chi-squared test statistic\n",
    "chi_squared_stat = (((observed_df-expected_df)**2)/expected_df).sum().sum()\n",
    "print('Chi-Squared_test_statistic: %.3f'%chi_squared_stat)\n",
    "\n",
    "\n",
    "#Step 4: Calculate degrees of freedom (rows-1)*(columns-1)\n",
    "degree_freedom = (len(expected_df.index) - 1) * (len(expected_df.columns) - 1)\n",
    "print('Degrees of freedom: %d'%degree_freedom)\n",
    "\n",
    "#Step 5:Calculate critical value for 5% level of confidence\n",
    "critical_value = stats.chi2.ppf(q = 0.95, df = 3)   \n",
    "print('Critical value for %d for 5percent level of confidence: %.3f'% (degree_freedom,critical_value))\n",
    "\n",
    "\n",
    "print('\\n')\n",
    "#Step 6: Conclusion\n",
    "if(chi_squared_stat > critical_value):\n",
    "    print('The critical value with %d degree of freedom is %.3f. Since %.3f > %.3f, therefore we reject the null hypothesis'%(degree_freedom,critical_value,chi_squared_stat,critical_value))\n",
    "    print('We conclude that the education level depends on gender at a 5 percentage level of significance. There is a relationship between the gender of an individual and the level of education that they have obtained')\n",
    "else:\n",
    "    print('The critical value is greater than calculated chi_squared_statistic.We cannot reject null hypothesis')\n",
    "    print('There is no relationship between the gender of an individual and the level of education that they have obtained.')\n",
    "    "
   ]
  },
  {
   "cell_type": "code",
   "execution_count": 15,
   "metadata": {},
   "outputs": [
    {
     "name": "stdout",
     "output_type": "stream",
     "text": [
      "F Statistic value 9.747205503009463 , p-value 0.0030597541434430556\n",
      "Since the calculated p-value is less than significance level, we reject the null hypothesis and conclude that at least two of the means are significantly different from each other.\n"
     ]
    }
   ],
   "source": [
    "'''2. Using the following data, perform a oneway analysis of variance using α=.05. Write up the\n",
    "results in APA format.\n",
    "[Group1: 51, 45, 33, 45, 67]\n",
    "[Group2: 23, 43, 23, 43, 45]\n",
    "[Group3: 56, 76, 74, 87, 56]'''\n",
    "\n",
    "\n",
    "\n",
    "Group1 = [51, 45, 33, 45, 67]\n",
    "Group2 = [23, 43, 23, 43, 45]\n",
    "Group3 = [56, 76, 74, 87, 56]\n",
    "\n",
    "#significance level\n",
    "alpha = 0.05\n",
    "\n",
    "#Step 1: State the hypothesis\n",
    "  #H0: μ1 = μ2 = μ3 \n",
    "  #Ha: μ1 ≠ μ2 ≠ μ3  \n",
    "\n",
    "#Step 2: Perform the ANOVA using scipy inbuilt function\n",
    "statistic, pvalue = stats.f_oneway(Group1,Group2,Group3)\n",
    "print(\"F Statistic value {} , p-value {}\".format(statistic,pvalue))\n",
    "\n",
    "#Step 3: Compare p-values\n",
    "if pvalue < alpha:\n",
    "    print('Since the calculated p-value is less than significance level, we reject the null hypothesis and conclude that at least two of the means are significantly different from each other.')\n",
    "else:\n",
    "    print('The p-value is greater than significance level, we conclude the means are same for all the groups.')"
   ]
  },
  {
   "cell_type": "code",
   "execution_count": 9,
   "metadata": {},
   "outputs": [
    {
     "name": "stdout",
     "output_type": "stream",
     "text": [
      "Variance of group1: 250.00\n",
      "Variance of group2: 62.50\n",
      "F-test value: 4.000000\n"
     ]
    }
   ],
   "source": [
    "'''3. Calculate F Test for given 10, 20, 30, 40, 50 and 5,10,15, 20, 25.\n",
    "For 10, 20, 30, 40, 50:'''\n",
    "\n",
    "import statistics\n",
    "group1 = [10, 20, 30, 40, 50]\n",
    "group2 = [5, 10, 15, 20, 25]\n",
    "\n",
    "#Step 1: Calculate variance of the groups\n",
    "group1_variance = statistics.variance(group1)\n",
    "print('Variance of group1: %.2f'%group1_variance)\n",
    "group2_variance = statistics.variance(group2)\n",
    "print('Variance of group2: %.2f'%group2_variance)\n",
    "\n",
    "#Step 2: Calculate F-Test value\n",
    "F_test = group1_variance/group2_variance\n",
    "print('F-test value: %f'%F_test)"
   ]
  },
  {
   "cell_type": "code",
   "execution_count": null,
   "metadata": {},
   "outputs": [],
   "source": []
  }
 ],
 "metadata": {
  "kernelspec": {
   "display_name": "Python 3",
   "language": "python",
   "name": "python3"
  },
  "language_info": {
   "codemirror_mode": {
    "name": "ipython",
    "version": 3
   },
   "file_extension": ".py",
   "mimetype": "text/x-python",
   "name": "python",
   "nbconvert_exporter": "python",
   "pygments_lexer": "ipython3",
   "version": "3.7.0"
  }
 },
 "nbformat": 4,
 "nbformat_minor": 2
}
